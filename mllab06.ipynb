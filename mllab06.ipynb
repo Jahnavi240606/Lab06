{
  "nbformat": 4,
  "nbformat_minor": 0,
  "metadata": {
    "colab": {
      "provenance": []
    },
    "kernelspec": {
      "name": "python3",
      "display_name": "Python 3"
    },
    "language_info": {
      "name": "python"
    }
  },
  "cells": [
    {
      "cell_type": "code",
      "execution_count": 1,
      "metadata": {
        "colab": {
          "base_uri": "https://localhost:8080/"
        },
        "id": "W0SOx-7B4FSb",
        "outputId": "c4622a3e-8607-484f-d30d-e82192dcdbbd"
      },
      "outputs": [
        {
          "output_type": "stream",
          "name": "stdout",
          "text": [
            "Binned Data: [0 1 1 1 2 2 3 4 4 4]\n",
            "Entropy: 2.1709505944546685\n"
          ]
        }
      ],
      "source": [
        "import numpy as np\n",
        "import pandas as pd\n",
        "\n",
        "# Function to calculate entropy\n",
        "def entropy(y):\n",
        "    unique, counts = np.unique(y, return_counts=True)\n",
        "    probabilities = counts / counts.sum()\n",
        "    return -np.sum(probabilities * np.log2(probabilities))\n",
        "\n",
        "# Function for equal width binning\n",
        "def equal_width_binning(data, num_bins=4):\n",
        "    bins = np.linspace(min(data), max(data), num_bins + 1)\n",
        "    categories = np.digitize(data, bins, right=True)\n",
        "    return categories\n",
        "\n",
        "# Example dataset\n",
        "continuous_data = np.array([12, 18, 25, 30, 40, 50, 60, 75, 85, 95])\n",
        "binned_data = equal_width_binning(continuous_data, num_bins=4)\n",
        "\n",
        "print(\"Binned Data:\", binned_data)\n",
        "print(\"Entropy:\", entropy(binned_data))\n"
      ]
    },
    {
      "cell_type": "markdown",
      "source": [
        "Q2"
      ],
      "metadata": {
        "id": "fXVLEh8G40xe"
      }
    },
    {
      "cell_type": "code",
      "source": [],
      "metadata": {
        "id": "zY_LZfjo429c"
      },
      "execution_count": null,
      "outputs": []
    }
  ]
}